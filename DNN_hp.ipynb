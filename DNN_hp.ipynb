{
 "cells": [
  {
   "cell_type": "markdown",
   "metadata": {},
   "source": [
    "# DNN with Hyper-Parameters Tuning"
   ]
  },
  {
   "cell_type": "code",
   "execution_count": 6,
   "metadata": {
    "scrolled": true
   },
   "outputs": [
    {
     "name": "stdout",
     "output_type": "stream",
     "text": [
      "1    1418\n",
      "0    1418\n",
      "Name: Winner, dtype: int64\n",
      "X_train shape: (2268, 42) | X_test shape: (568, 42) | y_train shape: (2268,) | y_test shape: (568,)\n"
     ]
    }
   ],
   "source": [
    "import os\n",
    "os.environ[\"CUDA_VISIBLE_DEVICES\"] = \"-1\" # disable GPU\n",
    "import pandas as pd\n",
    "import numpy as np\n",
    "import matplotlib.pyplot as plt\n",
    "%matplotlib inline\n",
    "\n",
    "from sklearn.model_selection import train_test_split\n",
    "from sklearn.preprocessing import MinMaxScaler\n",
    "import tensorflow as tf\n",
    "from tensorflow.keras.models import Sequential\n",
    "from tensorflow.keras.layers import Dense, Activation,Dropout\n",
    "\n",
    "#hyper-parameter tuning imports\n",
    "from kerastuner.tuners import RandomSearch\n",
    "from kerastuner.engine.hyperparameters import HyperParameters\n",
    "import time\n",
    "LOG_DIR = f\"{int(time.time())}\" # folder names as a timestamp\n",
    "\n",
    "SEED = 111 # constant seed for reproducibility\n",
    "os.environ['PYTHONHASHSEED'] = str(SEED)\n",
    "np.random.seed(SEED)\n",
    "tf.random.set_seed(SEED)\n",
    "\n",
    "df = pd.read_csv(\"data/UFC_TRAIN.csv\")\n",
    "\n",
    "# tackling imbalance issue\n",
    "theMin = df[\"Winner\"].value_counts().min()\n",
    "minority = df[df[\"Winner\"]==1].iloc[0:theMin]\n",
    "undersampleMaj = df[df[\"Winner\"]==0].iloc[0:theMin]\n",
    "df = pd.concat([minority, undersampleMaj], axis=0)\n",
    "print(df[\"Winner\"].value_counts())\n",
    "\n",
    "# train/test split\n",
    "X = df.drop([\"date\",\"Winner\",\"B_fighter\",\"R_fighter\"], axis=1).values\n",
    "y = df[\"Winner\"].values\n",
    "X_train, X_test, y_train, y_test = train_test_split(X,y, test_size=0.2, random_state=SEED)\n",
    "\n",
    "# scaling\n",
    "scaler = MinMaxScaler()\n",
    "scaler.fit(X_train)\n",
    "X_train = scaler.transform(X_train)\n",
    "X_test = scaler.transform(X_test)\n",
    "\n",
    "print(f\"X_train shape: {X_train.shape} | X_test shape: {X_test.shape} | y_train shape: {y_train.shape} | y_test shape: {y_test.shape}\")\n",
    "\n",
    "# Parameters\n",
    "MIN = 30\n",
    "MAX = 256\n",
    "STEP = 16\n",
    "MAX_TRIALS = 2\n",
    "EXE_PER_TRIAL = 1\n",
    "EPOCHS = 10\n",
    "PATIENCE = 16\n",
    "\n",
    "# function to build the model (argument: hyper-parameter)\n",
    "def build_model(hp):\n",
    "    # model\n",
    "    model = Sequential()\n",
    "    \n",
    "    # first layer's no. of neurons = hp.Int range of values to test\n",
    "    model.add(Dense(hp.Int(\"input_units\", min_value=MIN, max_value=MAX, step=STEP), activation='relu'))\n",
    "    \n",
    "    # range of 1 to 10 layers to test\n",
    "    for i in range(hp.Int(\"no. Of Hidden Layers\", 1, 5)):\n",
    "        # for each added layer, again test range of neurons and add dropout\n",
    "        model.add(Dense(hp.Int(f\"Hidden_layer_{i+1}_units\", min_value=MIN, max_value=MAX, step=STEP), activation='relu'))\n",
    "        model.add(Dropout(0.5))\n",
    "    \n",
    "    # output layer\n",
    "    model.add(Dense(units=1, activation='sigmoid'))\n",
    "\n",
    "    model.compile(loss='binary_crossentropy', optimizer='adam', metrics=['accuracy'])\n",
    "    return model\n",
    "\n",
    "tuner = RandomSearch(\n",
    "        build_model, # name of the function that builds the model\n",
    "        objective=\"val_accuracy\", # the thing that we're interested to trace\n",
    "        max_trials = MAX_TRIALS, # no. of combinations to try\n",
    "        executions_per_trial = EXE_PER_TRIAL, # no. of times to train each combination (true avg)\n",
    "        directory=LOG_DIR) # directory to save the outputs\n",
    "\n",
    "# prevent divergence of loss & val_loss via early stopping\n",
    "from tensorflow.keras.callbacks import EarlyStopping\n",
    "early_stop = EarlyStopping(monitor='val_loss', mode='min', verbose=1, patience=PATIENCE)"
   ]
  },
  {
   "cell_type": "code",
   "execution_count": 7,
   "metadata": {
    "scrolled": true
   },
   "outputs": [
    {
     "name": "stdout",
     "output_type": "stream",
     "text": [
      "Train on 2268 samples, validate on 568 samples\n",
      "Epoch 1/10\n",
      "2268/2268 [==============================] - ETA: 1:19 - loss: 0.7239 - accuracy: 0.43 - ETA: 6s - loss: 0.7076 - accuracy: 0.5199 - ETA: 2s - loss: 0.7032 - accuracy: 0.52 - ETA: 1s - loss: 0.7009 - accuracy: 0.50 - ETA: 1s - loss: 0.6992 - accuracy: 0.50 - ETA: 0s - loss: 0.6984 - accuracy: 0.50 - ETA: 0s - loss: 0.6972 - accuracy: 0.50 - 2s 846us/sample - loss: 0.6974 - accuracy: 0.5057 - val_loss: 0.6861 - val_accuracy: 0.5405\n",
      "Epoch 2/10\n",
      "2268/2268 [==============================] - ETA: 0s - loss: 0.6888 - accuracy: 0.46 - ETA: 0s - loss: 0.6869 - accuracy: 0.53 - ETA: 0s - loss: 0.6884 - accuracy: 0.53 - ETA: 0s - loss: 0.6896 - accuracy: 0.53 - ETA: 0s - loss: 0.6881 - accuracy: 0.54 - ETA: 0s - loss: 0.6883 - accuracy: 0.54 - ETA: 0s - loss: 0.6883 - accuracy: 0.54 - ETA: 0s - loss: 0.6875 - accuracy: 0.54 - 1s 245us/sample - loss: 0.6868 - accuracy: 0.5481 - val_loss: 0.6774 - val_accuracy: 0.5880\n",
      "Epoch 3/10\n",
      "2268/2268 [==============================] - ETA: 0s - loss: 0.6632 - accuracy: 0.71 - ETA: 0s - loss: 0.6835 - accuracy: 0.58 - ETA: 0s - loss: 0.6789 - accuracy: 0.59 - ETA: 0s - loss: 0.6783 - accuracy: 0.58 - ETA: 0s - loss: 0.6843 - accuracy: 0.56 - ETA: 0s - loss: 0.6835 - accuracy: 0.56 - ETA: 0s - loss: 0.6841 - accuracy: 0.55 - 1s 238us/sample - loss: 0.6826 - accuracy: 0.5635 - val_loss: 0.6697 - val_accuracy: 0.6092\n",
      "Epoch 4/10\n",
      "2268/2268 [==============================] - ETA: 0s - loss: 0.6963 - accuracy: 0.40 - ETA: 0s - loss: 0.6984 - accuracy: 0.49 - ETA: 0s - loss: 0.6934 - accuracy: 0.52 - ETA: 0s - loss: 0.6828 - accuracy: 0.56 - ETA: 0s - loss: 0.6807 - accuracy: 0.57 - ETA: 0s - loss: 0.6791 - accuracy: 0.57 - ETA: 0s - loss: 0.6790 - accuracy: 0.57 - 1s 230us/sample - loss: 0.6782 - accuracy: 0.5732 - val_loss: 0.6619 - val_accuracy: 0.6338\n",
      "Epoch 5/10\n",
      "2268/2268 [==============================] - ETA: 0s - loss: 0.6419 - accuracy: 0.65 - ETA: 0s - loss: 0.6526 - accuracy: 0.65 - ETA: 0s - loss: 0.6542 - accuracy: 0.63 - ETA: 0s - loss: 0.6642 - accuracy: 0.60 - ETA: 0s - loss: 0.6638 - accuracy: 0.60 - ETA: 0s - loss: 0.6715 - accuracy: 0.57 - ETA: 0s - loss: 0.6707 - accuracy: 0.58 - 0s 216us/sample - loss: 0.6708 - accuracy: 0.5873 - val_loss: 0.6585 - val_accuracy: 0.6215\n",
      "Epoch 6/10\n",
      "2268/2268 [==============================] - ETA: 0s - loss: 0.7034 - accuracy: 0.53 - ETA: 0s - loss: 0.6662 - accuracy: 0.57 - ETA: 0s - loss: 0.6568 - accuracy: 0.62 - ETA: 0s - loss: 0.6625 - accuracy: 0.60 - ETA: 0s - loss: 0.6667 - accuracy: 0.59 - ETA: 0s - loss: 0.6666 - accuracy: 0.60 - ETA: 0s - loss: 0.6640 - accuracy: 0.61 - 0s 217us/sample - loss: 0.6629 - accuracy: 0.6129 - val_loss: 0.6544 - val_accuracy: 0.6056\n",
      "Epoch 7/10\n",
      "2268/2268 [==============================] - ETA: 0s - loss: 0.6163 - accuracy: 0.56 - ETA: 0s - loss: 0.6446 - accuracy: 0.62 - ETA: 0s - loss: 0.6517 - accuracy: 0.62 - ETA: 0s - loss: 0.6545 - accuracy: 0.61 - ETA: 0s - loss: 0.6559 - accuracy: 0.61 - ETA: 0s - loss: 0.6545 - accuracy: 0.61 - ETA: 0s - loss: 0.6579 - accuracy: 0.60 - 1s 238us/sample - loss: 0.6605 - accuracy: 0.6005 - val_loss: 0.6507 - val_accuracy: 0.6426\n",
      "Epoch 8/10\n",
      "2268/2268 [==============================] - ETA: 0s - loss: 0.6946 - accuracy: 0.59 - ETA: 0s - loss: 0.6706 - accuracy: 0.59 - ETA: 0s - loss: 0.6587 - accuracy: 0.59 - ETA: 0s - loss: 0.6593 - accuracy: 0.60 - ETA: 0s - loss: 0.6536 - accuracy: 0.60 - ETA: 0s - loss: 0.6539 - accuracy: 0.60 - ETA: 0s - loss: 0.6530 - accuracy: 0.60 - 0s 216us/sample - loss: 0.6539 - accuracy: 0.6005 - val_loss: 0.6441 - val_accuracy: 0.6320\n",
      "Epoch 9/10\n",
      "2268/2268 [==============================] - ETA: 0s - loss: 0.7382 - accuracy: 0.43 - ETA: 0s - loss: 0.6527 - accuracy: 0.61 - ETA: 0s - loss: 0.6583 - accuracy: 0.60 - ETA: 0s - loss: 0.6618 - accuracy: 0.60 - ETA: 0s - loss: 0.6564 - accuracy: 0.60 - ETA: 0s - loss: 0.6567 - accuracy: 0.59 - ETA: 0s - loss: 0.6538 - accuracy: 0.60 - ETA: 0s - loss: 0.6546 - accuracy: 0.60 - 1s 229us/sample - loss: 0.6550 - accuracy: 0.6080 - val_loss: 0.6448 - val_accuracy: 0.6250\n",
      "Epoch 10/10\n",
      "2268/2268 [==============================] - ETA: 0s - loss: 0.5960 - accuracy: 0.71 - ETA: 0s - loss: 0.6323 - accuracy: 0.64 - ETA: 0s - loss: 0.6359 - accuracy: 0.62 - ETA: 0s - loss: 0.6447 - accuracy: 0.62 - ETA: 0s - loss: 0.6471 - accuracy: 0.61 - ETA: 0s - loss: 0.6484 - accuracy: 0.61 - ETA: 0s - loss: 0.6463 - accuracy: 0.62 - ETA: 0s - loss: 0.6484 - accuracy: 0.61 - 1s 242us/sample - loss: 0.6473 - accuracy: 0.6186 - val_loss: 0.6430 - val_accuracy: 0.6197\n"
     ]
    },
    {
     "data": {
      "text/html": [
       "<span style=\"color:#4527A0\"><h1 style=\"font-size:18px\">Trial complete</h1></span>"
      ],
      "text/plain": [
       "<IPython.core.display.HTML object>"
      ]
     },
     "metadata": {},
     "output_type": "display_data"
    },
    {
     "data": {
      "text/html": [
       "<span style=\"color:#4527A0\"><h1 style=\"font-size:18px\">Trial summary</h1></span>"
      ],
      "text/plain": [
       "<IPython.core.display.HTML object>"
      ]
     },
     "metadata": {},
     "output_type": "display_data"
    },
    {
     "data": {
      "text/html": [
       "<span style=\"color:#7E57C2\"><h2 style=\"font-size:16px\">Hp values:</h2></span>"
      ],
      "text/plain": [
       "<IPython.core.display.HTML object>"
      ]
     },
     "metadata": {},
     "output_type": "display_data"
    },
    {
     "data": {
      "text/html": [
       "<span style=\"color:cyan\"> |-Hidden_layer_1_units: 78</span>"
      ],
      "text/plain": [
       "<IPython.core.display.HTML object>"
      ]
     },
     "metadata": {},
     "output_type": "display_data"
    },
    {
     "data": {
      "text/html": [
       "<span style=\"color:blue\"> |-input_units: 46</span>"
      ],
      "text/plain": [
       "<IPython.core.display.HTML object>"
      ]
     },
     "metadata": {},
     "output_type": "display_data"
    },
    {
     "data": {
      "text/html": [
       "<span style=\"color:cyan\"> |-no. Of Hidden Layers: 1</span>"
      ],
      "text/plain": [
       "<IPython.core.display.HTML object>"
      ]
     },
     "metadata": {},
     "output_type": "display_data"
    },
    {
     "data": {
      "text/html": [
       "<span style=\"color:cyan\"> |-Score: 0.6426056623458862</span>"
      ],
      "text/plain": [
       "<IPython.core.display.HTML object>"
      ]
     },
     "metadata": {},
     "output_type": "display_data"
    },
    {
     "data": {
      "text/html": [
       "<span style=\"color:cyan\"> |-Best step: 0</span>"
      ],
      "text/plain": [
       "<IPython.core.display.HTML object>"
      ]
     },
     "metadata": {},
     "output_type": "display_data"
    },
    {
     "name": "stdout",
     "output_type": "stream",
     "text": [
      "Train on 2268 samples, validate on 568 samples\n",
      "Epoch 1/10\n",
      "2268/2268 [==============================] - ETA: 1:51 - loss: 0.7100 - accuracy: 0.46 - ETA: 11s - loss: 0.7064 - accuracy: 0.4688 - ETA: 5s - loss: 0.7045 - accuracy: 0.498 - ETA: 3s - loss: 0.7003 - accuracy: 0.49 - ETA: 2s - loss: 0.6980 - accuracy: 0.49 - ETA: 1s - loss: 0.6980 - accuracy: 0.50 - ETA: 0s - loss: 0.6963 - accuracy: 0.51 - ETA: 0s - loss: 0.6960 - accuracy: 0.51 - ETA: 0s - loss: 0.6951 - accuracy: 0.51 - 3s 1ms/sample - loss: 0.6946 - accuracy: 0.5115 - val_loss: 0.6921 - val_accuracy: 0.5651\n",
      "Epoch 2/10\n",
      "2268/2268 [==============================] - ETA: 0s - loss: 0.6913 - accuracy: 0.43 - ETA: 0s - loss: 0.6882 - accuracy: 0.52 - ETA: 0s - loss: 0.6888 - accuracy: 0.52 - ETA: 0s - loss: 0.6891 - accuracy: 0.52 - ETA: 0s - loss: 0.6896 - accuracy: 0.52 - ETA: 0s - loss: 0.6917 - accuracy: 0.51 - ETA: 0s - loss: 0.6927 - accuracy: 0.50 - ETA: 0s - loss: 0.6922 - accuracy: 0.51 - ETA: 0s - loss: 0.6919 - accuracy: 0.51 - 1s 367us/sample - loss: 0.6920 - accuracy: 0.5132 - val_loss: 0.6919 - val_accuracy: 0.5352\n",
      "Epoch 3/10\n",
      "2268/2268 [==============================] - ETA: 2s - loss: 0.6957 - accuracy: 0.46 - ETA: 1s - loss: 0.7056 - accuracy: 0.47 - ETA: 1s - loss: 0.7013 - accuracy: 0.50 - ETA: 1s - loss: 0.6990 - accuracy: 0.49 - ETA: 0s - loss: 0.6967 - accuracy: 0.49 - ETA: 0s - loss: 0.6956 - accuracy: 0.50 - ETA: 0s - loss: 0.6941 - accuracy: 0.51 - ETA: 0s - loss: 0.6939 - accuracy: 0.51 - ETA: 0s - loss: 0.6938 - accuracy: 0.50 - ETA: 0s - loss: 0.6937 - accuracy: 0.51 - ETA: 0s - loss: 0.6942 - accuracy: 0.51 - ETA: 0s - loss: 0.6941 - accuracy: 0.50 - ETA: 0s - loss: 0.6943 - accuracy: 0.50 - 1s 459us/sample - loss: 0.6946 - accuracy: 0.5053 - val_loss: 0.6924 - val_accuracy: 0.5158\n",
      "Epoch 4/10\n",
      "2268/2268 [==============================] - ETA: 0s - loss: 0.6815 - accuracy: 0.65 - ETA: 0s - loss: 0.6926 - accuracy: 0.51 - ETA: 0s - loss: 0.6927 - accuracy: 0.51 - ETA: 0s - loss: 0.6927 - accuracy: 0.51 - ETA: 0s - loss: 0.6931 - accuracy: 0.51 - ETA: 0s - loss: 0.6928 - accuracy: 0.52 - ETA: 0s - loss: 0.6923 - accuracy: 0.52 - ETA: 0s - loss: 0.6921 - accuracy: 0.53 - ETA: 0s - loss: 0.6926 - accuracy: 0.53 - 1s 266us/sample - loss: 0.6918 - accuracy: 0.5397 - val_loss: 0.6908 - val_accuracy: 0.5546\n",
      "Epoch 5/10\n",
      "2268/2268 [==============================] - ETA: 0s - loss: 0.7045 - accuracy: 0.56 - ETA: 0s - loss: 0.6943 - accuracy: 0.53 - ETA: 0s - loss: 0.6917 - accuracy: 0.54 - ETA: 0s - loss: 0.6892 - accuracy: 0.54 - ETA: 0s - loss: 0.6916 - accuracy: 0.55 - ETA: 0s - loss: 0.6925 - accuracy: 0.54 - ETA: 0s - loss: 0.6924 - accuracy: 0.53 - ETA: 0s - loss: 0.6926 - accuracy: 0.53 - ETA: 0s - loss: 0.6925 - accuracy: 0.53 - 1s 260us/sample - loss: 0.6926 - accuracy: 0.5331 - val_loss: 0.6922 - val_accuracy: 0.5088\n",
      "Epoch 6/10\n",
      "2268/2268 [==============================] - ETA: 0s - loss: 0.6964 - accuracy: 0.50 - ETA: 0s - loss: 0.6901 - accuracy: 0.53 - ETA: 0s - loss: 0.6923 - accuracy: 0.52 - ETA: 0s - loss: 0.6924 - accuracy: 0.51 - ETA: 0s - loss: 0.6920 - accuracy: 0.51 - ETA: 0s - loss: 0.6932 - accuracy: 0.51 - ETA: 0s - loss: 0.6926 - accuracy: 0.51 - ETA: 0s - loss: 0.6925 - accuracy: 0.52 - ETA: 0s - loss: 0.6920 - accuracy: 0.52 - 1s 280us/sample - loss: 0.6921 - accuracy: 0.5251 - val_loss: 0.6897 - val_accuracy: 0.5722\n",
      "Epoch 7/10\n",
      "2268/2268 [==============================] - ETA: 0s - loss: 0.6789 - accuracy: 0.65 - ETA: 0s - loss: 0.6904 - accuracy: 0.54 - ETA: 0s - loss: 0.6907 - accuracy: 0.52 - ETA: 0s - loss: 0.6899 - accuracy: 0.53 - ETA: 0s - loss: 0.6896 - accuracy: 0.53 - ETA: 0s - loss: 0.6908 - accuracy: 0.53 - ETA: 0s - loss: 0.6907 - accuracy: 0.53 - ETA: 0s - loss: 0.6903 - accuracy: 0.52 - ETA: 0s - loss: 0.6899 - accuracy: 0.52 - 1s 286us/sample - loss: 0.6896 - accuracy: 0.5278 - val_loss: 0.6868 - val_accuracy: 0.6004\n",
      "Epoch 8/10\n",
      "2268/2268 [==============================] - ETA: 0s - loss: 0.7022 - accuracy: 0.50 - ETA: 0s - loss: 0.6985 - accuracy: 0.51 - ETA: 0s - loss: 0.6936 - accuracy: 0.53 - ETA: 0s - loss: 0.6916 - accuracy: 0.55 - ETA: 0s - loss: 0.6914 - accuracy: 0.54 - ETA: 0s - loss: 0.6907 - accuracy: 0.54 - ETA: 0s - loss: 0.6907 - accuracy: 0.54 - ETA: 0s - loss: 0.6910 - accuracy: 0.53 - ETA: 0s - loss: 0.6903 - accuracy: 0.53 - 1s 281us/sample - loss: 0.6900 - accuracy: 0.5366 - val_loss: 0.6865 - val_accuracy: 0.6232\n",
      "Epoch 9/10\n",
      "2268/2268 [==============================] - ETA: 0s - loss: 0.6873 - accuracy: 0.56 - ETA: 0s - loss: 0.6884 - accuracy: 0.51 - ETA: 0s - loss: 0.6865 - accuracy: 0.53 - ETA: 0s - loss: 0.6867 - accuracy: 0.55 - ETA: 0s - loss: 0.6858 - accuracy: 0.55 - ETA: 0s - loss: 0.6873 - accuracy: 0.55 - ETA: 0s - loss: 0.6885 - accuracy: 0.55 - ETA: 0s - loss: 0.6880 - accuracy: 0.55 - ETA: 0s - loss: 0.6876 - accuracy: 0.55 - 1s 266us/sample - loss: 0.6876 - accuracy: 0.5569 - val_loss: 0.6859 - val_accuracy: 0.6004\n",
      "Epoch 10/10\n",
      "2268/2268 [==============================] - ETA: 0s - loss: 0.6824 - accuracy: 0.59 - ETA: 0s - loss: 0.6764 - accuracy: 0.61 - ETA: 0s - loss: 0.6803 - accuracy: 0.60 - ETA: 0s - loss: 0.6809 - accuracy: 0.59 - ETA: 0s - loss: 0.6822 - accuracy: 0.58 - ETA: 0s - loss: 0.6816 - accuracy: 0.59 - ETA: 0s - loss: 0.6818 - accuracy: 0.58 - ETA: 0s - loss: 0.6817 - accuracy: 0.58 - ETA: 0s - loss: 0.6814 - accuracy: 0.58 - 1s 274us/sample - loss: 0.6810 - accuracy: 0.5864 - val_loss: 0.6808 - val_accuracy: 0.6144\n"
     ]
    },
    {
     "data": {
      "text/html": [
       "<span style=\"color:#4527A0\"><h1 style=\"font-size:18px\">Trial complete</h1></span>"
      ],
      "text/plain": [
       "<IPython.core.display.HTML object>"
      ]
     },
     "metadata": {},
     "output_type": "display_data"
    },
    {
     "data": {
      "text/html": [
       "<span style=\"color:#4527A0\"><h1 style=\"font-size:18px\">Trial summary</h1></span>"
      ],
      "text/plain": [
       "<IPython.core.display.HTML object>"
      ]
     },
     "metadata": {},
     "output_type": "display_data"
    },
    {
     "data": {
      "text/html": [
       "<span style=\"color:#7E57C2\"><h2 style=\"font-size:16px\">Hp values:</h2></span>"
      ],
      "text/plain": [
       "<IPython.core.display.HTML object>"
      ]
     },
     "metadata": {},
     "output_type": "display_data"
    },
    {
     "data": {
      "text/html": [
       "<span style=\"color:cyan\"> |-Hidden_layer_1_units: 30</span>"
      ],
      "text/plain": [
       "<IPython.core.display.HTML object>"
      ]
     },
     "metadata": {},
     "output_type": "display_data"
    },
    {
     "data": {
      "text/html": [
       "<span style=\"color:blue\"> |-Hidden_layer_2_units: 30</span>"
      ],
      "text/plain": [
       "<IPython.core.display.HTML object>"
      ]
     },
     "metadata": {},
     "output_type": "display_data"
    },
    {
     "data": {
      "text/html": [
       "<span style=\"color:cyan\"> |-Hidden_layer_3_units: 30</span>"
      ],
      "text/plain": [
       "<IPython.core.display.HTML object>"
      ]
     },
     "metadata": {},
     "output_type": "display_data"
    },
    {
     "data": {
      "text/html": [
       "<span style=\"color:blue\"> |-Hidden_layer_4_units: 30</span>"
      ],
      "text/plain": [
       "<IPython.core.display.HTML object>"
      ]
     },
     "metadata": {},
     "output_type": "display_data"
    },
    {
     "data": {
      "text/html": [
       "<span style=\"color:cyan\"> |-input_units: 238</span>"
      ],
      "text/plain": [
       "<IPython.core.display.HTML object>"
      ]
     },
     "metadata": {},
     "output_type": "display_data"
    },
    {
     "data": {
      "text/html": [
       "<span style=\"color:blue\"> |-no. Of Hidden Layers: 4</span>"
      ],
      "text/plain": [
       "<IPython.core.display.HTML object>"
      ]
     },
     "metadata": {},
     "output_type": "display_data"
    },
    {
     "data": {
      "text/html": [
       "<span style=\"color:cyan\"> |-Score: 0.6232394576072693</span>"
      ],
      "text/plain": [
       "<IPython.core.display.HTML object>"
      ]
     },
     "metadata": {},
     "output_type": "display_data"
    },
    {
     "data": {
      "text/html": [
       "<span style=\"color:cyan\"> |-Best step: 0</span>"
      ],
      "text/plain": [
       "<IPython.core.display.HTML object>"
      ]
     },
     "metadata": {},
     "output_type": "display_data"
    },
    {
     "name": "stdout",
     "output_type": "stream",
     "text": [
      "INFO:tensorflow:Oracle triggered exit\n"
     ]
    }
   ],
   "source": [
    "tuner.search(x=X_train,\n",
    "             y=y_train,\n",
    "             epochs = EPOCHS,\n",
    "#             batch_size = 64,\n",
    "             callbacks=[early_stop],\n",
    "             validation_data=(X_test,y_test))"
   ]
  },
  {
   "cell_type": "code",
   "execution_count": 8,
   "metadata": {},
   "outputs": [
    {
     "data": {
      "text/html": [
       "<span style=\"color:#4527A0\"><h1 style=\"font-size:18px\">Results summary</h1></span>"
      ],
      "text/plain": [
       "<IPython.core.display.HTML object>"
      ]
     },
     "metadata": {},
     "output_type": "display_data"
    },
    {
     "data": {
      "text/html": [
       "<span style=\"color:cyan\"> |-Results in 1579492934/untitled_project</span>"
      ],
      "text/plain": [
       "<IPython.core.display.HTML object>"
      ]
     },
     "metadata": {},
     "output_type": "display_data"
    },
    {
     "data": {
      "text/html": [
       "<span style=\"color:cyan\"> |-Showing 10 best trials</span>"
      ],
      "text/plain": [
       "<IPython.core.display.HTML object>"
      ]
     },
     "metadata": {},
     "output_type": "display_data"
    },
    {
     "data": {
      "text/html": [
       "<span style=\"color:cyan\"> |-Objective: Objective(name='val_accuracy', direction='max') Score: 0.6426056623458862</span>"
      ],
      "text/plain": [
       "<IPython.core.display.HTML object>"
      ]
     },
     "metadata": {},
     "output_type": "display_data"
    },
    {
     "data": {
      "text/html": [
       "<span style=\"color:cyan\"> |-Objective: Objective(name='val_accuracy', direction='max') Score: 0.6232394576072693</span>"
      ],
      "text/plain": [
       "<IPython.core.display.HTML object>"
      ]
     },
     "metadata": {},
     "output_type": "display_data"
    },
    {
     "name": "stdout",
     "output_type": "stream",
     "text": [
      "None\n",
      "{'input_units': 46, 'no. Of Hidden Layers': 1, 'Hidden_layer_1_units': 78}\n"
     ]
    }
   ],
   "source": [
    "print(tuner.results_summary()) # top 10 trials\n",
    "print(tuner.get_best_hyperparameters()[0].values) #values of best hyper-parameters\n",
    "#print(tuner.get_best_models()[0].summary())"
   ]
  },
  {
   "cell_type": "code",
   "execution_count": null,
   "metadata": {},
   "outputs": [],
   "source": []
  }
 ],
 "metadata": {
  "kernelspec": {
   "display_name": "Python 3",
   "language": "python",
   "name": "python3"
  },
  "language_info": {
   "codemirror_mode": {
    "name": "ipython",
    "version": 3
   },
   "file_extension": ".py",
   "mimetype": "text/x-python",
   "name": "python",
   "nbconvert_exporter": "python",
   "pygments_lexer": "ipython3",
   "version": "3.7.4"
  }
 },
 "nbformat": 4,
 "nbformat_minor": 4
}
