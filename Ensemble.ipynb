{
 "cells": [
  {
   "cell_type": "markdown",
   "metadata": {},
   "source": [
    "# Machine Learning Models and Ensemble Method\n",
    "---\n",
    "\n",
    "1. Split X-Features and y-labels\n",
    "2. 80-20 train-validation split\n",
    "3. fit models (on train), evaluate (on validation):\n",
    "    1. DNN\n",
    "    2. SVM\n",
    "    3. RF\n",
    "    4. XGB\n",
    "    5. LogReg\n",
    "4. __Manual__ Ensemble Method:\n",
    "    1. Evaluate Ensemble on Validation data\n",
    "5. Evaluate Ensemble on TEST data"
   ]
  },
  {
   "cell_type": "code",
   "execution_count": 1,
   "metadata": {},
   "outputs": [
    {
     "name": "stderr",
     "output_type": "stream",
     "text": [
      "/Users/rezanaghshineh/opt/anaconda3/lib/python3.7/site-packages/statsmodels/tools/_testing.py:19: FutureWarning: pandas.util.testing is deprecated. Use the functions in the public API at pandas.testing instead.\n",
      "  import pandas.util.testing as tm\n"
     ]
    }
   ],
   "source": [
    "import os\n",
    "os.environ[\"CUDA_VISIBLE_DEVICES\"] = \"-1\" # disable GPU\n",
    "from tqdm import tqdm # progress bar\n",
    "import pandas as pd\n",
    "import numpy as np\n",
    "import matplotlib.pyplot as plt\n",
    "import seaborn as sns\n",
    "%matplotlib inline\n",
    "\n",
    "# processing / validation\n",
    "from sklearn.model_selection import train_test_split\n",
    "from sklearn.preprocessing import MinMaxScaler\n",
    "\n",
    "# keras/tf\n",
    "import tensorflow as tf\n",
    "from tensorflow.keras.models import Sequential\n",
    "from tensorflow.keras.layers import Dense, Activation,Dropout\n",
    "\n",
    "# models\n",
    "from sklearn.svm import SVC\n",
    "from sklearn.ensemble import RandomForestRegressor\n",
    "from xgboost import XGBClassifier\n",
    "from sklearn.linear_model import LogisticRegression\n",
    "#from sklearn.model_selection import GridSearchCV # hp-tuning\n",
    "\n",
    "# metrics\n",
    "from sklearn import metrics\n",
    "from sklearn.metrics import classification_report\n",
    "from sklearn.metrics import roc_auc_score\n",
    "\n",
    "# constant seed for reproducibility\n",
    "SEED = 111 \n",
    "os.environ['PYTHONHASHSEED'] = str(SEED)\n",
    "np.random.seed(SEED)\n",
    "tf.random.set_seed(SEED)"
   ]
  },
  {
   "cell_type": "markdown",
   "metadata": {},
   "source": [
    "## 1 & 2 - X/y + Train/Test Split:"
   ]
  },
  {
   "cell_type": "code",
   "execution_count": 2,
   "metadata": {},
   "outputs": [],
   "source": [
    "df = pd.read_csv(\"data/UFC_TRAIN.csv\")\n",
    "\n",
    "# tackling imbalance issue\n",
    "#theMin = df[\"Winner\"].value_counts().min()\n",
    "#minority = df[df[\"Winner\"]==1].iloc[0:theMin]\n",
    "#undersampleMaj = df[df[\"Winner\"]==0].iloc[0:theMin]\n",
    "#df = pd.concat([minority, undersampleMaj], axis=0)\n",
    "#df[\"Winner\"].value_counts()\n",
    "\n",
    "# feature/label and train/test split\n",
    "X = df.drop([\"date\",\"Winner\",\"B_fighter\",\"R_fighter\"], axis=1).values\n",
    "y = df[\"Winner\"].values\n",
    "X_TRAIN, X_VAL, y_TRAIN, y_VAL = train_test_split(X,y, test_size=0.20, random_state=SEED)\n"
   ]
  },
  {
   "cell_type": "markdown",
   "metadata": {},
   "source": [
    "#### Baseline: Always predict red (i.e: 0)"
   ]
  },
  {
   "cell_type": "code",
   "execution_count": 3,
   "metadata": {},
   "outputs": [
    {
     "data": {
      "text/plain": [
       "0.6779468544174426"
      ]
     },
     "execution_count": 3,
     "metadata": {},
     "output_type": "execute_result"
    }
   ],
   "source": [
    "metrics.accuracy_score(np.zeros(len(df.index)),df[\"Winner\"])"
   ]
  },
  {
   "cell_type": "markdown",
   "metadata": {},
   "source": [
    "Baseline accuracy is 67.96 % in unbalanced dataset"
   ]
  },
  {
   "cell_type": "markdown",
   "metadata": {},
   "source": [
    "## 3- ML Models\n",
    "### A: DNN - Using a deep neural network with early stopping functionality to prevent divergence of loss & val_loss:"
   ]
  },
  {
   "cell_type": "code",
   "execution_count": 4,
   "metadata": {
    "scrolled": true
   },
   "outputs": [
    {
     "name": "stdout",
     "output_type": "stream",
     "text": [
      "X_train_scaled shape: (3522, 42) | X_val_scaled shape: (881, 42) | y_train shape: (3522,) | y_val shape: (881,)\n"
     ]
    }
   ],
   "source": [
    "# scaling\n",
    "scaler = MinMaxScaler()\n",
    "scaler.fit(X_TRAIN)\n",
    "X_train_scaled = scaler.transform(X_TRAIN)\n",
    "X_val_scaled = scaler.transform(X_VAL)\n",
    "\n",
    "print(f\"X_train_scaled shape: {X_train_scaled.shape} | X_val_scaled shape: {X_val_scaled.shape} | y_train shape: {y_TRAIN.shape} | y_val shape: {y_VAL.shape}\")\n",
    "\n",
    "# model\n",
    "dnnClf = Sequential()\n",
    "\n",
    "# first hiden layer\n",
    "dnnClf.add(Dense(units=20, input_dim=42,activation='relu'))\n",
    "#dnnClf.add(Dropout(0.5)) # deactivates 50% of nodes\n",
    "\n",
    "dnnClf.add(Dense(units=10, activation='relu'))\n",
    "dnnClf.add(Dropout(0.5)) # deactivates 50% of nodes\n",
    "\n",
    "# output layer\n",
    "dnnClf.add(Dense(units=1, activation='sigmoid'))\n",
    "\n",
    "dnnClf.compile(loss='binary_crossentropy', optimizer='adam', metrics=['accuracy'])\n",
    "\n",
    "from tensorflow.keras.callbacks import EarlyStopping # prevent divergence of loss & val_loss\n",
    "early_stop = EarlyStopping(monitor='val_loss', mode='min', verbose=1, patience=16)"
   ]
  },
  {
   "cell_type": "code",
   "execution_count": 5,
   "metadata": {
    "scrolled": true
   },
   "outputs": [
    {
     "name": "stdout",
     "output_type": "stream",
     "text": [
      "Train on 3522 samples, validate on 881 samples\n",
      "Epoch 1/400\n",
      "3522/3522 [==============================] - 2s 619us/sample - loss: 0.6603 - accuracy: 0.6357 - val_loss: 0.6327 - val_accuracy: 0.6697\n",
      "Epoch 2/400\n",
      "3522/3522 [==============================] - 0s 126us/sample - loss: 0.6358 - accuracy: 0.6792 - val_loss: 0.6238 - val_accuracy: 0.6697\n",
      "Epoch 3/400\n",
      "3522/3522 [==============================] - 0s 126us/sample - loss: 0.6259 - accuracy: 0.6769 - val_loss: 0.6176 - val_accuracy: 0.6708\n",
      "Epoch 4/400\n",
      "3522/3522 [==============================] - 0s 130us/sample - loss: 0.6218 - accuracy: 0.6826 - val_loss: 0.6144 - val_accuracy: 0.6697\n",
      "Epoch 5/400\n",
      "3522/3522 [==============================] - 0s 127us/sample - loss: 0.6170 - accuracy: 0.6806 - val_loss: 0.6114 - val_accuracy: 0.6731\n",
      "Epoch 6/400\n",
      "3522/3522 [==============================] - 0s 137us/sample - loss: 0.6160 - accuracy: 0.6780 - val_loss: 0.6119 - val_accuracy: 0.6708\n",
      "Epoch 7/400\n",
      "3522/3522 [==============================] - 0s 126us/sample - loss: 0.6060 - accuracy: 0.6860 - val_loss: 0.6059 - val_accuracy: 0.6776\n",
      "Epoch 8/400\n",
      "3522/3522 [==============================] - 0s 123us/sample - loss: 0.6046 - accuracy: 0.6817 - val_loss: 0.6085 - val_accuracy: 0.6879\n",
      "Epoch 9/400\n",
      "3522/3522 [==============================] - 0s 124us/sample - loss: 0.6048 - accuracy: 0.6823 - val_loss: 0.6070 - val_accuracy: 0.6879\n",
      "Epoch 10/400\n",
      "3522/3522 [==============================] - 0s 123us/sample - loss: 0.6047 - accuracy: 0.6783 - val_loss: 0.6030 - val_accuracy: 0.6833\n",
      "Epoch 11/400\n",
      "3522/3522 [==============================] - 0s 125us/sample - loss: 0.6047 - accuracy: 0.6848 - val_loss: 0.6034 - val_accuracy: 0.6856\n",
      "Epoch 12/400\n",
      "3522/3522 [==============================] - 0s 124us/sample - loss: 0.6023 - accuracy: 0.6829 - val_loss: 0.6023 - val_accuracy: 0.6901\n",
      "Epoch 13/400\n",
      "3522/3522 [==============================] - 0s 124us/sample - loss: 0.6018 - accuracy: 0.6800 - val_loss: 0.6020 - val_accuracy: 0.6731\n",
      "Epoch 14/400\n",
      "3522/3522 [==============================] - 0s 124us/sample - loss: 0.6004 - accuracy: 0.6843 - val_loss: 0.6025 - val_accuracy: 0.6765\n",
      "Epoch 15/400\n",
      "3522/3522 [==============================] - 1s 201us/sample - loss: 0.5991 - accuracy: 0.6797 - val_loss: 0.6042 - val_accuracy: 0.6799\n",
      "Epoch 16/400\n",
      "3522/3522 [==============================] - 1s 148us/sample - loss: 0.5982 - accuracy: 0.6871 - val_loss: 0.6008 - val_accuracy: 0.6822\n",
      "Epoch 17/400\n",
      "3522/3522 [==============================] - 1s 165us/sample - loss: 0.5946 - accuracy: 0.6848 - val_loss: 0.6020 - val_accuracy: 0.6879\n",
      "Epoch 18/400\n",
      "3522/3522 [==============================] - 0s 125us/sample - loss: 0.5955 - accuracy: 0.6877 - val_loss: 0.6017 - val_accuracy: 0.6754\n",
      "Epoch 19/400\n",
      "3522/3522 [==============================] - 0s 130us/sample - loss: 0.5946 - accuracy: 0.6871 - val_loss: 0.6012 - val_accuracy: 0.6799\n",
      "Epoch 20/400\n",
      "3522/3522 [==============================] - 0s 124us/sample - loss: 0.5952 - accuracy: 0.6885 - val_loss: 0.6037 - val_accuracy: 0.6799\n",
      "Epoch 21/400\n",
      "3522/3522 [==============================] - 0s 124us/sample - loss: 0.5911 - accuracy: 0.6885 - val_loss: 0.6016 - val_accuracy: 0.6754\n",
      "Epoch 22/400\n",
      "3522/3522 [==============================] - 1s 163us/sample - loss: 0.5965 - accuracy: 0.6848 - val_loss: 0.6014 - val_accuracy: 0.6856\n",
      "Epoch 23/400\n",
      "3522/3522 [==============================] - 0s 140us/sample - loss: 0.5923 - accuracy: 0.6894 - val_loss: 0.6003 - val_accuracy: 0.6822\n",
      "Epoch 24/400\n",
      "3522/3522 [==============================] - 0s 132us/sample - loss: 0.5930 - accuracy: 0.6860 - val_loss: 0.5998 - val_accuracy: 0.6822\n",
      "Epoch 25/400\n",
      "3522/3522 [==============================] - 0s 127us/sample - loss: 0.5894 - accuracy: 0.6880 - val_loss: 0.6005 - val_accuracy: 0.6776\n",
      "Epoch 26/400\n",
      "3522/3522 [==============================] - 0s 127us/sample - loss: 0.5914 - accuracy: 0.6917 - val_loss: 0.6003 - val_accuracy: 0.6867\n",
      "Epoch 27/400\n",
      "3522/3522 [==============================] - 0s 131us/sample - loss: 0.5879 - accuracy: 0.6854 - val_loss: 0.5993 - val_accuracy: 0.6879\n",
      "Epoch 28/400\n",
      "3522/3522 [==============================] - 0s 123us/sample - loss: 0.5833 - accuracy: 0.6888 - val_loss: 0.5995 - val_accuracy: 0.6822\n",
      "Epoch 29/400\n",
      "3522/3522 [==============================] - 0s 124us/sample - loss: 0.5878 - accuracy: 0.6848 - val_loss: 0.5988 - val_accuracy: 0.6867\n",
      "Epoch 30/400\n",
      "3522/3522 [==============================] - 0s 133us/sample - loss: 0.5862 - accuracy: 0.6914 - val_loss: 0.5983 - val_accuracy: 0.6901\n",
      "Epoch 31/400\n",
      "3522/3522 [==============================] - 0s 140us/sample - loss: 0.5880 - accuracy: 0.6882 - val_loss: 0.5980 - val_accuracy: 0.6822\n",
      "Epoch 32/400\n",
      "3522/3522 [==============================] - 1s 188us/sample - loss: 0.5875 - accuracy: 0.6877 - val_loss: 0.5980 - val_accuracy: 0.6822\n",
      "Epoch 33/400\n",
      "3522/3522 [==============================] - 1s 164us/sample - loss: 0.5851 - accuracy: 0.6934 - val_loss: 0.5995 - val_accuracy: 0.6856\n",
      "Epoch 34/400\n",
      "3522/3522 [==============================] - 1s 362us/sample - loss: 0.5857 - accuracy: 0.6914 - val_loss: 0.5985 - val_accuracy: 0.6856\n",
      "Epoch 35/400\n",
      "3522/3522 [==============================] - 1s 327us/sample - loss: 0.5815 - accuracy: 0.6894 - val_loss: 0.5989 - val_accuracy: 0.6844\n",
      "Epoch 36/400\n",
      "3522/3522 [==============================] - 1s 163us/sample - loss: 0.5813 - accuracy: 0.6931 - val_loss: 0.5983 - val_accuracy: 0.6810\n",
      "Epoch 37/400\n",
      "3522/3522 [==============================] - 0s 138us/sample - loss: 0.5825 - accuracy: 0.6931 - val_loss: 0.5996 - val_accuracy: 0.6879\n",
      "Epoch 38/400\n",
      "3522/3522 [==============================] - 0s 135us/sample - loss: 0.5861 - accuracy: 0.6826 - val_loss: 0.6004 - val_accuracy: 0.6799\n",
      "Epoch 39/400\n",
      "3522/3522 [==============================] - 0s 138us/sample - loss: 0.5806 - accuracy: 0.6905 - val_loss: 0.5979 - val_accuracy: 0.6879\n",
      "Epoch 40/400\n",
      "3522/3522 [==============================] - 0s 137us/sample - loss: 0.5807 - accuracy: 0.6988 - val_loss: 0.5985 - val_accuracy: 0.6867\n",
      "Epoch 41/400\n",
      "3522/3522 [==============================] - 0s 137us/sample - loss: 0.5812 - accuracy: 0.6951 - val_loss: 0.6056 - val_accuracy: 0.6810\n",
      "Epoch 42/400\n",
      "3522/3522 [==============================] - 0s 139us/sample - loss: 0.5814 - accuracy: 0.6914 - val_loss: 0.5982 - val_accuracy: 0.6844\n",
      "Epoch 43/400\n",
      "3522/3522 [==============================] - 0s 137us/sample - loss: 0.5801 - accuracy: 0.6902 - val_loss: 0.5984 - val_accuracy: 0.6833\n",
      "Epoch 44/400\n",
      "3522/3522 [==============================] - 1s 143us/sample - loss: 0.5798 - accuracy: 0.6922 - val_loss: 0.5973 - val_accuracy: 0.6890\n",
      "Epoch 45/400\n",
      "3522/3522 [==============================] - 0s 138us/sample - loss: 0.5806 - accuracy: 0.6880 - val_loss: 0.5972 - val_accuracy: 0.6890\n",
      "Epoch 46/400\n",
      "3522/3522 [==============================] - 0s 137us/sample - loss: 0.5789 - accuracy: 0.6917 - val_loss: 0.5975 - val_accuracy: 0.6890\n",
      "Epoch 47/400\n",
      "3522/3522 [==============================] - 0s 136us/sample - loss: 0.5766 - accuracy: 0.6919 - val_loss: 0.5973 - val_accuracy: 0.6890\n",
      "Epoch 48/400\n",
      "3522/3522 [==============================] - 0s 138us/sample - loss: 0.5780 - accuracy: 0.6988 - val_loss: 0.5997 - val_accuracy: 0.6901\n",
      "Epoch 49/400\n",
      "3522/3522 [==============================] - 0s 139us/sample - loss: 0.5759 - accuracy: 0.6979 - val_loss: 0.5988 - val_accuracy: 0.6924\n",
      "Epoch 50/400\n",
      "3522/3522 [==============================] - 0s 137us/sample - loss: 0.5744 - accuracy: 0.6948 - val_loss: 0.5995 - val_accuracy: 0.6856\n",
      "Epoch 51/400\n",
      "3522/3522 [==============================] - 0s 136us/sample - loss: 0.5696 - accuracy: 0.6985 - val_loss: 0.5980 - val_accuracy: 0.6879\n",
      "Epoch 52/400\n",
      "3522/3522 [==============================] - 0s 137us/sample - loss: 0.5724 - accuracy: 0.6985 - val_loss: 0.5988 - val_accuracy: 0.6867\n",
      "Epoch 53/400\n",
      "3522/3522 [==============================] - 0s 139us/sample - loss: 0.5783 - accuracy: 0.6905 - val_loss: 0.5970 - val_accuracy: 0.6844\n",
      "Epoch 54/400\n",
      "3522/3522 [==============================] - 0s 138us/sample - loss: 0.5751 - accuracy: 0.6959 - val_loss: 0.5973 - val_accuracy: 0.6924\n",
      "Epoch 55/400\n",
      "3522/3522 [==============================] - 0s 136us/sample - loss: 0.5734 - accuracy: 0.6914 - val_loss: 0.5972 - val_accuracy: 0.6924\n",
      "Epoch 56/400\n",
      "3522/3522 [==============================] - 0s 138us/sample - loss: 0.5699 - accuracy: 0.6965 - val_loss: 0.5991 - val_accuracy: 0.6890\n",
      "Epoch 57/400\n",
      "3522/3522 [==============================] - 0s 136us/sample - loss: 0.5714 - accuracy: 0.6979 - val_loss: 0.5971 - val_accuracy: 0.6833\n",
      "Epoch 58/400\n",
      "3522/3522 [==============================] - 0s 138us/sample - loss: 0.5701 - accuracy: 0.6990 - val_loss: 0.5964 - val_accuracy: 0.6890\n",
      "Epoch 59/400\n",
      "3522/3522 [==============================] - 0s 137us/sample - loss: 0.5708 - accuracy: 0.6990 - val_loss: 0.5976 - val_accuracy: 0.6856\n",
      "Epoch 60/400\n",
      "3522/3522 [==============================] - 0s 138us/sample - loss: 0.5707 - accuracy: 0.6979 - val_loss: 0.5978 - val_accuracy: 0.6856\n",
      "Epoch 61/400\n",
      "3522/3522 [==============================] - 0s 140us/sample - loss: 0.5731 - accuracy: 0.6931 - val_loss: 0.5970 - val_accuracy: 0.6890\n",
      "Epoch 62/400\n",
      "3522/3522 [==============================] - 0s 138us/sample - loss: 0.5668 - accuracy: 0.6939 - val_loss: 0.5964 - val_accuracy: 0.6844\n",
      "Epoch 63/400\n",
      "3522/3522 [==============================] - 0s 139us/sample - loss: 0.5675 - accuracy: 0.7005 - val_loss: 0.5972 - val_accuracy: 0.6822\n",
      "Epoch 64/400\n",
      "3522/3522 [==============================] - 0s 138us/sample - loss: 0.5720 - accuracy: 0.6979 - val_loss: 0.5962 - val_accuracy: 0.6856\n",
      "Epoch 65/400\n",
      "3522/3522 [==============================] - 0s 137us/sample - loss: 0.5658 - accuracy: 0.6993 - val_loss: 0.5972 - val_accuracy: 0.6799\n",
      "Epoch 66/400\n",
      "3522/3522 [==============================] - 0s 138us/sample - loss: 0.5659 - accuracy: 0.7039 - val_loss: 0.5984 - val_accuracy: 0.6810\n",
      "Epoch 67/400\n",
      "3522/3522 [==============================] - 0s 138us/sample - loss: 0.5641 - accuracy: 0.7013 - val_loss: 0.5978 - val_accuracy: 0.6833\n",
      "Epoch 68/400\n",
      "3522/3522 [==============================] - 0s 134us/sample - loss: 0.5654 - accuracy: 0.6999 - val_loss: 0.5981 - val_accuracy: 0.6822\n",
      "Epoch 69/400\n",
      "3522/3522 [==============================] - 0s 136us/sample - loss: 0.5699 - accuracy: 0.6979 - val_loss: 0.5994 - val_accuracy: 0.6867\n",
      "Epoch 70/400\n",
      "3522/3522 [==============================] - 0s 139us/sample - loss: 0.5666 - accuracy: 0.6942 - val_loss: 0.5973 - val_accuracy: 0.6867\n",
      "Epoch 71/400\n",
      "3522/3522 [==============================] - 0s 139us/sample - loss: 0.5655 - accuracy: 0.6993 - val_loss: 0.5990 - val_accuracy: 0.6822\n",
      "Epoch 72/400\n",
      "3522/3522 [==============================] - 0s 137us/sample - loss: 0.5669 - accuracy: 0.6985 - val_loss: 0.5999 - val_accuracy: 0.6822\n",
      "Epoch 73/400\n",
      "3522/3522 [==============================] - 0s 139us/sample - loss: 0.5620 - accuracy: 0.6939 - val_loss: 0.6007 - val_accuracy: 0.6867\n",
      "Epoch 74/400\n",
      "3522/3522 [==============================] - 0s 137us/sample - loss: 0.5591 - accuracy: 0.6999 - val_loss: 0.6025 - val_accuracy: 0.6822\n",
      "Epoch 75/400\n",
      "3522/3522 [==============================] - 0s 138us/sample - loss: 0.5557 - accuracy: 0.7118 - val_loss: 0.6017 - val_accuracy: 0.6890\n",
      "Epoch 76/400\n",
      "3522/3522 [==============================] - 0s 133us/sample - loss: 0.5593 - accuracy: 0.7016 - val_loss: 0.6025 - val_accuracy: 0.6901\n",
      "Epoch 77/400\n",
      "3522/3522 [==============================] - 0s 138us/sample - loss: 0.5601 - accuracy: 0.6976 - val_loss: 0.6045 - val_accuracy: 0.6822\n",
      "Epoch 78/400\n",
      "3522/3522 [==============================] - 0s 137us/sample - loss: 0.5610 - accuracy: 0.7002 - val_loss: 0.6048 - val_accuracy: 0.6765\n",
      "Epoch 79/400\n",
      "3522/3522 [==============================] - 0s 137us/sample - loss: 0.5581 - accuracy: 0.7007 - val_loss: 0.6023 - val_accuracy: 0.6856\n",
      "Epoch 80/400\n",
      "3522/3522 [==============================] - 0s 137us/sample - loss: 0.5593 - accuracy: 0.6965 - val_loss: 0.6037 - val_accuracy: 0.6947\n",
      "Epoch 00080: early stopping\n"
     ]
    },
    {
     "data": {
      "text/plain": [
       "<matplotlib.axes._subplots.AxesSubplot at 0x1a458729d0>"
      ]
     },
     "execution_count": 5,
     "metadata": {},
     "output_type": "execute_result"
    },
    {
     "data": {
      "image/png": "[encoded data removed]",
      "text/plain": [
       "<Figure size 432x288 with 1 Axes>"
      ]
     },
     "metadata": {
      "needs_background": "light"
     },
     "output_type": "display_data"
    }
   ],
   "source": [
    "dnnClf.fit(x=X_train_scaled, \n",
    "          y=y_TRAIN, \n",
    "          epochs=400,\n",
    "          validation_data=(X_val_scaled, y_VAL), verbose=1,\n",
    "          callbacks=[early_stop]\n",
    "          )\n",
    "model_loss = pd.DataFrame(dnnClf.history.history)\n",
    "model_loss.plot()"
   ]
  },
  {
   "cell_type": "code",
   "execution_count": 6,
   "metadata": {},
   "outputs": [
    {
     "name": "stdout",
     "output_type": "stream",
     "text": [
      "DNN Validation Performance on UNBALANCED(!):\n",
      "------------------\n",
      "               precision    recall  f1-score   support\n",
      "\n",
      "     class 0       0.71      0.91      0.80       590\n",
      "     class 1       0.58      0.25      0.35       291\n",
      "\n",
      "    accuracy                           0.69       881\n",
      "   macro avg       0.64      0.58      0.57       881\n",
      "weighted avg       0.67      0.69      0.65       881\n",
      "\n",
      "AUC:  0.5787960859688974\n"
     ]
    }
   ],
   "source": [
    "dnnPreds = dnnClf.predict(scaler.transform(X_VAL))\n",
    "dnnPreds = [round(i[0]) for i in dnnPreds]\n",
    "target_names = ['class 0', 'class 1']\n",
    "print(\"DNN Validation Performance on UNBALANCED(!):\\n------------------\\n\",classification_report(y_VAL, dnnPreds , target_names=target_names))\n",
    "print(\"AUC: \",roc_auc_score(y_VAL, dnnPreds))"
   ]
  },
  {
   "cell_type": "markdown",
   "metadata": {},
   "source": [
    "### B: SVM - Support Vector Machine:"
   ]
  },
  {
   "cell_type": "code",
   "execution_count": 7,
   "metadata": {},
   "outputs": [
    {
     "name": "stdout",
     "output_type": "stream",
     "text": [
      "SVM Validation Performance on UNBALANCED(!):\n",
      "------------------\n",
      "               precision    recall  f1-score   support\n",
      "\n",
      "     class 0       0.68      0.99      0.81       590\n",
      "     class 1       0.71      0.05      0.10       291\n",
      "\n",
      "    accuracy                           0.68       881\n",
      "   macro avg       0.70      0.52      0.45       881\n",
      "weighted avg       0.69      0.68      0.57       881\n",
      "\n",
      "AUC:  0.5206884501135768\n"
     ]
    }
   ],
   "source": [
    "svmClf = SVC(kernel=\"linear\")\n",
    "svmClf.fit(X_TRAIN,y_TRAIN)\n",
    "svmPreds = svmClf.predict(X_VAL)\n",
    "print(\"SVM Validation Performance on UNBALANCED(!):\\n------------------\\n\",classification_report(y_VAL, svmPreds , target_names=target_names))\n",
    "print(\"AUC: \",roc_auc_score(y_VAL, svmPreds))"
   ]
  },
  {
   "cell_type": "markdown",
   "metadata": {},
   "source": [
    "### C: RF - RandomForest:"
   ]
  },
  {
   "cell_type": "code",
   "execution_count": 8,
   "metadata": {},
   "outputs": [
    {
     "name": "stdout",
     "output_type": "stream",
     "text": [
      "RF Validation Performance on UNBALANCED(!):\n",
      "------------------\n",
      "               precision    recall  f1-score   support\n",
      "\n",
      "     class 0       0.71      0.89      0.79       590\n",
      "     class 1       0.55      0.26      0.36       291\n",
      "\n",
      "    accuracy                           0.68       881\n",
      "   macro avg       0.63      0.58      0.57       881\n",
      "weighted avg       0.66      0.68      0.65       881\n",
      "\n",
      "AUC:  0.5780651173626886\n"
     ]
    }
   ],
   "source": [
    "rfClf = RandomForestRegressor(n_estimators = 1000)\n",
    "rfClf.fit(X_TRAIN, y_TRAIN)\n",
    "rfPreds = rfClf.predict(X_VAL)\n",
    "rfPreds = [round(i) for i in rfPreds]\n",
    "print(\"RF Validation Performance on UNBALANCED(!):\\n------------------\\n\",classification_report(y_VAL, rfPreds , target_names=target_names))\n",
    "print(\"AUC: \",roc_auc_score(y_VAL, rfPreds))"
   ]
  },
  {
   "cell_type": "markdown",
   "metadata": {},
   "source": [
    "### D: XGB - Gradient Boost:"
   ]
  },
  {
   "cell_type": "code",
   "execution_count": 9,
   "metadata": {},
   "outputs": [
    {
     "name": "stdout",
     "output_type": "stream",
     "text": [
      "XGB Validation Performance on UNBALANCED(!):\n",
      "------------------\n",
      "               precision    recall  f1-score   support\n",
      "\n",
      "     class 0       0.71      0.91      0.79       590\n",
      "     class 1       0.56      0.23      0.33       291\n",
      "\n",
      "    accuracy                           0.69       881\n",
      "   macro avg       0.63      0.57      0.56       881\n",
      "weighted avg       0.66      0.69      0.64       881\n",
      "\n",
      "AUC:  0.5702050206768011\n"
     ]
    }
   ],
   "source": [
    "xgbClf = XGBClassifier(n_estimators=200)\n",
    "xgbClf.fit(X_TRAIN, y_TRAIN)\n",
    "xgbPreds = xgbClf.predict(X_VAL)\n",
    "print(\"XGB Validation Performance on UNBALANCED(!):\\n------------------\\n\",classification_report(y_VAL, xgbPreds , target_names=target_names))\n",
    "print(\"AUC: \",roc_auc_score(y_VAL, xgbPreds))"
   ]
  },
  {
   "cell_type": "markdown",
   "metadata": {},
   "source": [
    "### E: LR - Logistic Regression:"
   ]
  },
  {
   "cell_type": "code",
   "execution_count": 10,
   "metadata": {},
   "outputs": [
    {
     "name": "stdout",
     "output_type": "stream",
     "text": [
      "LogReg Validation Performance on UNBALANCED(!):\n",
      "------------------\n",
      "               precision    recall  f1-score   support\n",
      "\n",
      "     class 0       0.70      0.92      0.80       590\n",
      "     class 1       0.56      0.20      0.29       291\n",
      "\n",
      "    accuracy                           0.68       881\n",
      "   macro avg       0.63      0.56      0.54       881\n",
      "weighted avg       0.65      0.68      0.63       881\n",
      "\n",
      "AUC:  0.5606733065408586\n"
     ]
    }
   ],
   "source": [
    "lrClf = LogisticRegression(solver=\"newton-cg\")\n",
    "lrClf.fit(X_TRAIN, y_TRAIN)\n",
    "lrPreds = lrClf.predict(X_VAL)\n",
    "print(\"LogReg Validation Performance on UNBALANCED(!):\\n------------------\\n\",classification_report(y_VAL, lrPreds , target_names=target_names))\n",
    "print(\"AUC: \",roc_auc_score(y_VAL, lrPreds))"
   ]
  },
  {
   "cell_type": "markdown",
   "metadata": {},
   "source": [
    "### 4- Ensemble Method with Validation Performance:\n",
    "Ensemble method aggregates the votes of each model and gives the most frequent vote as output"
   ]
  },
  {
   "cell_type": "code",
   "execution_count": 11,
   "metadata": {},
   "outputs": [
    {
     "name": "stderr",
     "output_type": "stream",
     "text": [
      "100%|██████████| 881/881 [02:23<00:00,  6.13it/s]"
     ]
    },
    {
     "name": "stdout",
     "output_type": "stream",
     "text": [
      "Ensemble Validation Performance on UNBALANCED(!):\n",
      "------------------\n",
      "               precision    recall  f1-score   support\n",
      "\n",
      "     class 0       0.70      0.92      0.80       590\n",
      "     class 1       0.57      0.21      0.31       291\n",
      "\n",
      "    accuracy                           0.69       881\n",
      "   macro avg       0.64      0.57      0.55       881\n",
      "weighted avg       0.66      0.69      0.64       881\n",
      "\n",
      "AUC:  0.5658279457161163\n"
     ]
    },
    {
     "name": "stderr",
     "output_type": "stream",
     "text": [
      "\n"
     ]
    }
   ],
   "source": [
    "def predictEnsemble(sample, models=0):\n",
    "    \"\"\"predicts the label of a given sample by aggregating votes of number of models.\n",
    "    by default, models = 0, takes into account all models. Otherwise, for a given list of codes,\n",
    "    it involves the corresponsing model. codes:\n",
    "    1: dnn | 2: svm | 3: rf | 4: xgb | 5: lr\n",
    "    \"\"\"\n",
    "    modelsDict = {\n",
    "        # models predictions dictionary\n",
    "        1:dnnClf.predict(scaler.transform(sample.reshape(1,-1))).tolist()[0][0],\n",
    "        2:svmClf.predict(sample.reshape(1,-1)).tolist()[0],\n",
    "        3:rfClf.predict(sample.reshape(1,-1)).tolist()[0],\n",
    "        4:xgbClf.predict(sample.reshape(1,-1)).tolist()[0],\n",
    "        5:lrClf.predict(sample.reshape(1,-1)).tolist()[0]\n",
    "    }\n",
    "    preds = []\n",
    "    if models == 0: # use all models\n",
    "        [preds.append(model) for model in modelsDict.values()]\n",
    "    else: # use only specified models\n",
    "        for model_code in models:\n",
    "            preds.append(modelsDict[model_code])\n",
    "\n",
    "    #print(preds)\n",
    "    preds = [round(i) for i in preds] # transform probability to label (threshold 0.5)\n",
    "    #print(preds)\n",
    "    #print(max(set(preds), key=preds.count))\n",
    "    return(max(set(preds), key=preds.count))\n",
    "\n",
    "\n",
    "ensPreds = []\n",
    "[ensPreds.append(predictEnsemble(sample, models=[3,4,5])) for sample in tqdm(X_VAL)]\n",
    "print(\"Ensemble Validation Performance on UNBALANCED(!):\\n------------------\\n\",classification_report(y_VAL, ensPreds , target_names=target_names))\n",
    "print(\"AUC: \",roc_auc_score(y_VAL, ensPreds))"
   ]
  },
  {
   "cell_type": "markdown",
   "metadata": {},
   "source": [
    "## 5- Performance Evaluation on TEST (unseen data)"
   ]
  },
  {
   "cell_type": "code",
   "execution_count": 14,
   "metadata": {},
   "outputs": [
    {
     "name": "stderr",
     "output_type": "stream",
     "text": [
      "100%|██████████| 232/232 [00:36<00:00,  6.43it/s]"
     ]
    },
    {
     "name": "stdout",
     "output_type": "stream",
     "text": [
      "Ensemble TEST Performance on UNBALANCED(!):\n",
      "------------------\n",
      "               precision    recall  f1-score   support\n",
      "\n",
      "     class 0       0.72      0.93      0.81       157\n",
      "     class 1       0.62      0.24      0.35        75\n",
      "\n",
      "    accuracy                           0.71       232\n",
      "   macro avg       0.67      0.58      0.58       232\n",
      "weighted avg       0.69      0.71      0.66       232\n",
      "\n",
      "AUC:  0.584968152866242\n"
     ]
    },
    {
     "name": "stderr",
     "output_type": "stream",
     "text": [
      "\n"
     ]
    }
   ],
   "source": [
    "TEST = pd.read_csv(\"data/UFC_TEST.csv\")\n",
    "X_TEST = TEST.drop([\"date\",\"B_fighter\",\"R_fighter\",\"Winner\"],axis=1).values\n",
    "y_TEST = TEST[\"Winner\"].values\n",
    "\n",
    "ensPreds_TEST = []\n",
    "[ensPreds_TEST.append(predictEnsemble(test_sample, models=[3,4,5])) for test_sample in tqdm(X_TEST)]\n",
    "print(\"Ensemble TEST Performance on UNBALANCED(!):\\n------------------\\n\",classification_report(y_TEST, ensPreds_TEST , target_names=target_names))\n",
    "print(\"AUC: \",roc_auc_score(y_TEST, ensPreds_TEST))"
   ]
  },
  {
   "cell_type": "code",
   "execution_count": null,
   "metadata": {},
   "outputs": [],
   "source": [
    "# save models to disk\n",
    "#import pickle\n",
    "#dnnClf.save('resources/dnn_model.h5')\n",
    "#pickle.dump(svmClf, open('resources/svm_model.sav', 'wb'))\n",
    "#pickle.dump(rfClf, open('resources/rf_model.sav', 'wb'))\n",
    "#pickle.dump(xgbClf, open('resources/xgb_model.sav', 'wb'))\n",
    "#pickle.dump(lrClf, open('resources/lr_model.sav', 'wb'))\n",
    "#pickle.dump(scaler, open('resources/scaler.pkl', 'wb'))"
   ]
  },
  {
   "cell_type": "code",
   "execution_count": null,
   "metadata": {},
   "outputs": [],
   "source": [
    "# notes:\n",
    "'''\n",
    "dnnPreds2 = dnnClf.predict(scaler.transform(X_TEST))\n",
    "dnnPreds2 = [round(i[0]) for i in dnnPreds2]\n",
    "dnnAcc2 = metrics.accuracy_score(dnnPreds2, y_TEST)\n",
    "print(\"DNN Accuracy:\",round(dnnAcc2,3))\n",
    "\n",
    "svmPreds2 = svmClf.predict(X_TEST)\n",
    "svmAcc2 = metrics.accuracy_score(svmPreds2, y_TEST)\n",
    "print(\"SVM Accuracy:\",round(svmAcc2,3))\n",
    "\n",
    "rfPreds2 = rfClf.predict(X_TEST)\n",
    "rfPreds2 = [round(i) for i in rfPreds2]\n",
    "rfAcc2 = metrics.accuracy_score(rfPreds2, y_TEST)\n",
    "print(\"RF Accuracy:\",round(rfAcc2,3))\n",
    "\n",
    "xgbPreds2 = xgbClf.predict(X_TEST)\n",
    "xgbAcc2 = metrics.accuracy_score(xgbPreds2, y_TEST)\n",
    "print(\"XGB Accuracy:\",round(xgbAcc2,3))\n",
    "\n",
    "lrPreds2 = lrClf.predict(X_TEST)\n",
    "lrAcc2 = metrics.accuracy_score(lrPreds2, y_TEST)\n",
    "print(\"LogReg Accuracy:\",round(lrAcc2,3))\n",
    "\n",
    "accTable = pd.DataFrame({\"Model\":[\"DNN\", \"SVM\", \"RF\", \"XGB\", \"LogReg\", \"Ensemble\"], \n",
    "                         \"Val_Accuracy\":[dnnAcc, svmAcc, rfAcc, xgbAcc, lrAcc, ensAcc],\n",
    "                         \"Test_Accuracy\":[dnnAcc2, svmAcc2, rfAcc2, xgbAcc2, lrAcc2, ensAcc2]})\n",
    "accTable.plot(kind=\"bar\",ylim=(0.5,0.8),x=\"Model\",title=\"Models Performance on Validation and Test Data\")\n",
    "\n",
    "# grid-search hyper-parameter tuning\n",
    "# svm hp-tuning with gridSearch\n",
    "#svm_param = {\"kernel\":(\"linear\",\"poly\",\"rbf\", \"sigmoid\"),\n",
    "#            \"C\":[1,52,10],\n",
    "#            \"degree\":[3,8],\n",
    "#            \"gamma\":(\"auto\",\"scale\"),\n",
    "#            \"coef0\":[0.001,10,0.5]}\n",
    "#svmClf = SVC()\n",
    "#svmGrid = GridSearchCV(svmClf, svm_param,cv=2)\n",
    "#svmGrid.fit(X_TRAIN, y_TRAIN)\n",
    "\n",
    "'''\n"
   ]
  },
  {
   "cell_type": "code",
   "execution_count": null,
   "metadata": {},
   "outputs": [],
   "source": []
  }
 ],
 "metadata": {
  "kernelspec": {
   "display_name": "Python 3",
   "language": "python",
   "name": "python3"
  },
  "language_info": {
   "codemirror_mode": {
    "name": "ipython",
    "version": 3
   },
   "file_extension": ".py",
   "mimetype": "text/x-python",
   "name": "python",
   "nbconvert_exporter": "python",
   "pygments_lexer": "ipython3",
   "version": "3.7.4"
  }
 },
 "nbformat": 4,
 "nbformat_minor": 4
}
