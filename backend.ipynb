{
 "cells": [
  {
   "cell_type": "markdown",
   "metadata": {},
   "source": [
    "# Backend Data Generation\n",
    "---\n",
    "This notebook generates the backend data needed for the app to fetch latest stat of a fighter"
   ]
  },
  {
   "cell_type": "code",
   "execution_count": 1,
   "metadata": {},
   "outputs": [],
   "source": [
    "import pandas as pd\n",
    "import numpy as np\n",
    "pd.set_option('display.max_columns', 100)\n",
    "\n",
    "df = pd.read_csv(\"data/UFC_processed.csv\")\n",
    "\n",
    "df[\"date\"] = pd.to_datetime(df[\"date\"]) # date as datetime\n",
    "\n",
    "features = [\"date\",\"fighter\"]\n",
    "for name in df.columns[4:25]: # slice string to separate prefix (e.g: R_)\n",
    "    features.append(name[2:]) # add more to features\n",
    "\n",
    "# separate fighters\n",
    "blueFighter = pd.concat([df.iloc[:,[0,1]],df.iloc[:,4:25]],axis=1)\n",
    "redFighter = pd.concat([df.iloc[:,[0,2]],df.iloc[:,25:]],axis=1)\n",
    "# rename columns\n",
    "blueFighter.columns = features\n",
    "redFighter.columns = features\n",
    "\n",
    "# join them in one table\n",
    "fighters = pd.concat([redFighter,blueFighter],axis=0,).reset_index(drop=True)"
   ]
  },
  {
   "cell_type": "code",
   "execution_count": 2,
   "metadata": {},
   "outputs": [],
   "source": [
    "# as each fighter has fought multiple matches, in order to get the latest stat for each fighter, we have to group them by name\n",
    "# and get the details of their latest match:\n",
    "l = fighters.groupby(\"fighter\")\n",
    "\n",
    "fighters_detail = []\n",
    "# for each unique fighter:\n",
    "#    1- groupby fighter's name to get all their fights\n",
    "#    2- sort the values by data in newest to oldest format\n",
    "#    3- get the first element (i.e: iloc0) which is the newest\n",
    "for fighter in fighters[\"fighter\"].unique(): \n",
    "    fighters_detail.append(l.get_group(fighter).sort_values(by=[\"date\"],ascending=False).iloc[0])"
   ]
  },
  {
   "cell_type": "code",
   "execution_count": 3,
   "metadata": {},
   "outputs": [],
   "source": [
    "fighter_stat = pd.DataFrame(fighters_detail).sort_values(by=\"fighter\")\n",
    "fighter_stat.insert(0, 'ID', np.arange(1,len(fighter_stat.index)+1))\n",
    "fighter_stat.reset_index(drop=True, inplace=True)"
   ]
  },
  {
   "cell_type": "code",
   "execution_count": 4,
   "metadata": {},
   "outputs": [],
   "source": [
    "# export dataset\n",
    "fighter_stat.to_csv(\"data/FIGHTER_STAT.csv\",index=False)"
   ]
  },
  {
   "cell_type": "code",
   "execution_count": null,
   "metadata": {},
   "outputs": [],
   "source": []
  }
 ],
 "metadata": {
  "kernelspec": {
   "display_name": "Python 3",
   "language": "python",
   "name": "python3"
  },
  "language_info": {
   "codemirror_mode": {
    "name": "ipython",
    "version": 3
   },
   "file_extension": ".py",
   "mimetype": "text/x-python",
   "name": "python",
   "nbconvert_exporter": "python",
   "pygments_lexer": "ipython3",
   "version": "3.7.4"
  }
 },
 "nbformat": 4,
 "nbformat_minor": 4
}
