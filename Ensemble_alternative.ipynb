{
 "cells": [
  {
   "cell_type": "markdown",
   "metadata": {},
   "source": [
    "# Machine Learning Models and (Alternative) Ensemble Method\n",
    "---\n",
    "\n",
    "1. Split X-Features and y-labels\n",
    "2. Stratified k-fold Validation for range of models:\n",
    "    1. SVM\n",
    "    2. DT\n",
    "    3. AdaBoost\n",
    "    4. RF\n",
    "    5. ExtraTrees\n",
    "    6. GradientBoosting\n",
    "    7. MLP\n",
    "    8. KNN\n",
    "    9. LogReg\n",
    "    10. LDA\n",
    "    11. XGB\n",
    "3. Choosing best models and training them\n",
    "4. __Better__ Ensemble Method:\n",
    "5. Evaluate Ensemble on TEST data"
   ]
  },
  {
   "cell_type": "code",
   "execution_count": 1,
   "metadata": {},
   "outputs": [],
   "source": [
    "import os\n",
    "os.environ[\"CUDA_VISIBLE_DEVICES\"] = \"-1\" # disable GPU\n",
    "#from tqdm import tqdm # progress bar\n",
    "import pandas as pd\n",
    "import numpy as np\n",
    "import matplotlib.pyplot as plt\n",
    "import seaborn as sns\n",
    "%matplotlib inline\n",
    "\n",
    "# processing / validation\n",
    "from imblearn.over_sampling import ADASYN # over-sampling\n",
    "from sklearn.model_selection import cross_val_score, StratifiedKFold\n",
    "\n",
    "# models\n",
    "from sklearn.svm import SVC\n",
    "from sklearn.tree import DecisionTreeClassifier\n",
    "from sklearn.ensemble import AdaBoostClassifier, RandomForestClassifier, ExtraTreesClassifier, GradientBoostingClassifier\n",
    "from sklearn.neural_network import MLPClassifier\n",
    "from sklearn.neighbors import KNeighborsClassifier\n",
    "from sklearn.linear_model import LogisticRegression\n",
    "from sklearn.discriminant_analysis import LinearDiscriminantAnalysis\n",
    "from xgboost import XGBClassifier\n",
    "from sklearn.ensemble import VotingClassifier\n",
    "\n",
    "# metrics\n",
    "from sklearn import metrics\n",
    "from sklearn.metrics import classification_report\n",
    "from sklearn.metrics import roc_auc_score\n",
    "\n",
    "# constant seed for reproducibility\n",
    "#SEED = 111\n",
    "#os.environ['PYTHONHASHSEED'] = str(SEED)\n",
    "#np.random.seed(SEED)\n",
    "#tf.random.set_seed(SEED)\n",
    "\n",
    "# cpu worker\n",
    "WORKERS = 4"
   ]
  },
  {
   "cell_type": "markdown",
   "metadata": {},
   "source": [
    "## 1- X/y Split:"
   ]
  },
  {
   "cell_type": "code",
   "execution_count": 2,
   "metadata": {},
   "outputs": [
    {
     "data": {
      "text/plain": [
       "0    2985\n",
       "1    2910\n",
       "dtype: int64"
      ]
     },
     "execution_count": 2,
     "metadata": {},
     "output_type": "execute_result"
    }
   ],
   "source": [
    "df = pd.read_csv(\"data/UFC_TRAIN.csv\")\n",
    "X = df.drop([\"date\",\"Winner\",\"B_fighter\",\"R_fighter\"], axis=1).values\n",
    "y = df[\"Winner\"].values\n",
    "\n",
    "# over-sampling\n",
    "over_sampler = ADASYN()\n",
    "X, y = over_sampler.fit_sample(X, y)\n",
    "\n",
    "pd.Series(y).value_counts()"
   ]
  },
  {
   "cell_type": "markdown",
   "metadata": {},
   "source": [
    "## 2- Stratified k-Fold-Validation with a Range of models"
   ]
  },
  {
   "cell_type": "code",
   "execution_count": 7,
   "metadata": {},
   "outputs": [
    {
     "name": "stdout",
     "output_type": "stream",
     "text": [
      "   Mean_Accuracy  CrossValerrors         Algorithm\n",
      "1       0.808580        0.116597        ExtraTrees\n",
      "0       0.766886        0.159269                RF\n",
      "2       0.748574        0.171188  GradientBoosting\n",
      "4       0.620527        0.021079               LDA\n",
      "3       0.619505        0.023554            LogReg\n"
     ]
    },
    {
     "data": {
      "image/png": "[encoded data removed]",
      "text/plain": [
       "<Figure size 1080x432 with 1 Axes>"
      ]
     },
     "metadata": {
      "needs_background": "light"
     },
     "output_type": "display_data"
    }
   ],
   "source": [
    "classifiers = [\n",
    "    \n",
    "    #SVC(random_state=SEED),\n",
    "    #DecisionTreeClassifier(random_state=SEED),\n",
    "    #AdaBoostClassifier(DecisionTreeClassifier(random_state=SEED),random_state=SEED,learning_rate=0.1),\n",
    "    #RandomForestClassifier(random_state=SEED),\n",
    "    #ExtraTreesClassifier(random_state=SEED),\n",
    "    #GradientBoostingClassifier(random_state=SEED),\n",
    "    #MLPClassifier(random_state=SEED),\n",
    "    #KNeighborsClassifier(),\n",
    "    #LogisticRegression(random_state = SEED),\n",
    "    #LinearDiscriminantAnalysis()\n",
    "    \n",
    "\n",
    "    RandomForestClassifier(),\n",
    "    ExtraTreesClassifier(),\n",
    "    GradientBoostingClassifier(),\n",
    "    LogisticRegression(),\n",
    "    LinearDiscriminantAnalysis()\n",
    "]\n",
    "#classifiers.append(XGBClassifier(n_estimators=200)) # we can append models \n",
    "\n",
    "kfold = StratifiedKFold( n_splits=10 ) # k = 10 stratified folds\n",
    "cv_results = [] # for EACH model holds k, i.e:10, cv-accuracy results (shape: no. of models x K)\n",
    "for classifier in classifiers:\n",
    "    cv_results.append(cross_val_score(classifier, X=X, y = y, scoring = \"accuracy\", cv = kfold, n_jobs=WORKERS))\n",
    "\n",
    "# mean accuracy and std of each model (shape: no. of models)\n",
    "cv_means = []\n",
    "cv_std = []\n",
    "for cv_result in cv_results:\n",
    "    cv_means.append(cv_result.mean())\n",
    "    cv_std.append(cv_result.std())\n",
    "\n",
    "cv_res = pd.DataFrame({\"Mean_Accuracy\":cv_means,\n",
    "                       \"CrossValerrors\": cv_std,\n",
    "                       \"Algorithm\":\n",
    "                       [\n",
    "                           #\"SVM\",\n",
    "                           #\"DT\",\n",
    "                           #\"AdaBoost\",\n",
    "                           \"RF\",\n",
    "                           \"ExtraTrees\",\n",
    "                           \"GradientBoosting\",\n",
    "                           #\"MLP\",\n",
    "                           #\"KNN\",\n",
    "                           \"LogReg\",\n",
    "                           \"LDA\",\n",
    "                           #\"XGB\"\n",
    "                       ]\n",
    "                      }\n",
    "                     )\n",
    "print(cv_res.sort_values(\"Mean_Accuracy\", ascending=False))\n",
    "plt.figure(figsize=(15,6))\n",
    "g = sns.barplot(x=\"Mean_Accuracy\",y=\"Algorithm\",data = cv_res, palette=\"Set3\",orient = \"h\")\n",
    "g.set(xlim=(0.4))\n",
    "g.set_xlabel(\"Mean Accuracy\")\n",
    "g = g.set_title(\"Average Accuracy of models on Stratified k-fold validation\")\n"
   ]
  },
  {
   "cell_type": "markdown",
   "metadata": {},
   "source": [
    "## 3- Model Selection:\n",
    "__LDA, GradientBoosting and LogReg are chosen to be in Ensemble model__"
   ]
  },
  {
   "cell_type": "code",
   "execution_count": 8,
   "metadata": {},
   "outputs": [],
   "source": [
    "ldaClf = LinearDiscriminantAnalysis()\n",
    "ldaClf = ldaClf.fit(X,y)\n",
    "\n",
    "#gboostClf = GradientBoostingClassifier(random_state=SEED)\n",
    "gboostClf = GradientBoostingClassifier()\n",
    "gboostClf = gboostClf.fit(X,y)\n",
    "\n",
    "#lrClf = LogisticRegression(random_state = SEED,n_jobs=WORKERS)\n",
    "lrClf = LogisticRegression(n_jobs=WORKERS)\n",
    "lrClf = lrClf.fit(X,y)\n",
    "\n",
    "#exTreeClf = ExtraTreesClassifier(random_state=SEED)\n",
    "exTreeClf = ExtraTreesClassifier()\n",
    "exTreeClf = exTreeClf.fit(X,y)\n",
    "\n",
    "#rfClf = RandomForestClassifier(random_state=SEED)\n",
    "rfClf = RandomForestClassifier()\n",
    "rfClf = rfClf.fit(X,y)\n",
    "\n",
    "\n",
    "# the following is redundant as k-fold-val has been performed previously\n",
    "#ldaScore = cross_val_score(ldaClf, X=X, y = y, scoring = \"accuracy\", cv = kfold, n_jobs=WORKERS).mean()\n",
    "#print(f\"LDA k-fold-val-avg-Accuracy: {ldaScore}\")\n",
    "#gboostScore = cross_val_score(gboostClf, X=X, y = y, scoring = \"accuracy\", cv = kfold, n_jobs=WORKERS).mean()\n",
    "#print(f\"GBOOST k-fold-val-avg-Accuracy: {gboostScore}\")\n",
    "#lraScore = cross_val_score(lrClf, X=X, y = y, scoring = \"accuracy\", cv = kfold, n_jobs=WORKERS).mean()\n",
    "#print(f\"LogReg k-fold-val-avg-Accuracy: {lraScore}\")\n"
   ]
  },
  {
   "cell_type": "markdown",
   "metadata": {},
   "source": [
    "## 4- Ensemble Method"
   ]
  },
  {
   "cell_type": "code",
   "execution_count": 27,
   "metadata": {},
   "outputs": [
    {
     "name": "stdout",
     "output_type": "stream",
     "text": [
      "5 Models in Ensemble: ['ldaClf', 'gboostClf', 'lrClf', 'exTreeClf', 'rfClf']\n"
     ]
    }
   ],
   "source": [
    "ensClf = VotingClassifier(estimators=\n",
    "                          [\n",
    "                              ('ldaClf', ldaClf),\n",
    "                              ('gboostClf', gboostClf),\n",
    "                              ('lrClf', lrClf),\n",
    "                              ('exTreeClf', exTreeClf),\n",
    "                              ('rfClf', rfClf),\n",
    "                              #('xgbClf', xgbClf)\n",
    "                          ],\n",
    "                          voting='soft', n_jobs=WORKERS)\n",
    "ensClf = ensClf.fit(X, y)\n",
    "print(f\"{len([e[0] for e in ensClf.estimators])} Models in Ensemble: {[e[0] for e in ensClf.estimators]}\")"
   ]
  },
  {
   "cell_type": "markdown",
   "metadata": {},
   "source": [
    "## 5- Performance Evaluation on TEST (unseen data):"
   ]
  },
  {
   "cell_type": "code",
   "execution_count": 28,
   "metadata": {},
   "outputs": [
    {
     "name": "stdout",
     "output_type": "stream",
     "text": [
      "Ensemble TEST Performance on BALANCED:\n",
      "------------------\n",
      "               precision    recall  f1-score   support\n",
      "\n",
      "     class 0       0.75      0.84      0.79       157\n",
      "     class 1       0.55      0.41      0.47        75\n",
      "\n",
      "    accuracy                           0.70       232\n",
      "   macro avg       0.65      0.63      0.63       232\n",
      "weighted avg       0.69      0.70      0.69       232\n",
      "\n",
      "AUC:  0.6270488322717622\n"
     ]
    }
   ],
   "source": [
    "TEST = pd.read_csv(\"data/UFC_TEST.csv\")\n",
    "X_TEST = TEST.drop([\"date\",\"B_fighter\",\"R_fighter\",\"Winner\"],axis=1).values\n",
    "y_TEST = TEST[\"Winner\"].values\n",
    "target_names = ['class 0', 'class 1']\n",
    "ensPreds_TEST = ensClf.predict(X_TEST)\n",
    "print(\"Ensemble TEST Performance on BALANCED:\\n------------------\\n\",classification_report(y_TEST, ensPreds_TEST , target_names=target_names))\n",
    "print(\"AUC: \",roc_auc_score(y_TEST, ensPreds_TEST))"
   ]
  },
  {
   "cell_type": "code",
   "execution_count": 29,
   "metadata": {},
   "outputs": [],
   "source": [
    "# save models to disk\n",
    "#import pickle\n",
    "#pickle.dump(ensClf, open('resources/ens_method.sav', 'wb'))\n",
    "\n"
   ]
  },
  {
   "cell_type": "code",
   "execution_count": null,
   "metadata": {},
   "outputs": [],
   "source": []
  }
 ],
 "metadata": {
  "kernelspec": {
   "display_name": "Python 3",
   "language": "python",
   "name": "python3"
  },
  "language_info": {
   "codemirror_mode": {
    "name": "ipython",
    "version": 3
   },
   "file_extension": ".py",
   "mimetype": "text/x-python",
   "name": "python",
   "nbconvert_exporter": "python",
   "pygments_lexer": "ipython3",
   "version": "3.7.4"
  }
 },
 "nbformat": 4,
 "nbformat_minor": 4
}
